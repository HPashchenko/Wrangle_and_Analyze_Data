{
 "cells": [
  {
   "cell_type": "markdown",
   "metadata": {},
   "source": [
    "# Udacity Project  \n",
    "## Wrangling and Analyzing Data "
   ]
  },
  {
   "cell_type": "markdown",
   "metadata": {},
   "source": [
    "#### Act Report - WeRateDogs Analysis \n",
    "The target of this project is to analyze data fromthe WeRateDogs.  \n",
    "#### The list of questions that have been used during analysis and visualization\n",
    "1. What is the most common breed of dogs in the dataset?\n",
    "2. What is the maximun number of Facebook posts? \n",
    "3. What is the most common dog?\n",
    "4. On what day of the week was the WeRatedogs posted most tweets?\n",
    "5. Are the favorites and retweets an effective measure of Twitter?\n",
    "6. What is the most an effective source for posting ?\n"
   ]
  },
  {
   "cell_type": "markdown",
   "metadata": {},
   "source": [
    "#### What is the most common breed of dogs in the dataset?\n",
    "The WeRateDogs contains over 5000 tweets.After cleaning, assessing I was able to analyze just less than 2000 tweets. As a result, Golden Retriever has a highest rate is 156. "
   ]
  },
  {
   "cell_type": "markdown",
   "metadata": {},
   "source": [
    "<img src=\"images/dog_breed.png\">"
   ]
  },
  {
   "cell_type": "markdown",
   "metadata": {},
   "source": [
    "#### What is the maximun number of Facebook posts? \n",
    "Despite the fast that a bar chart shows us downward tendency posting pics in tweet, the result shows us that the biggest number of posting was in December, 2015 "
   ]
  },
  {
   "cell_type": "markdown",
   "metadata": {},
   "source": [
    "<img src=\"images/post_per_month.png\">"
   ]
  },
  {
   "cell_type": "markdown",
   "metadata": {},
   "source": [
    "#### What is the most common dog?\n",
    "Pupper is the most common owned dog."
   ]
  },
  {
   "cell_type": "markdown",
   "metadata": {},
   "source": [
    "<img src=\"images/dog_stage.png\">"
   ]
  },
  {
   "cell_type": "markdown",
   "metadata": {},
   "source": [
    "#### On what day of the week was the WeRatedogs posted most tweets?\n",
    "From the result, the biggest number of posting tweets we have on Monday and Thursday"
   ]
  },
  {
   "cell_type": "markdown",
   "metadata": {},
   "source": [
    "<img src=\"images/post_week.png\">"
   ]
  },
  {
   "cell_type": "markdown",
   "metadata": {},
   "source": [
    "#### Are the favorites and retweets an effective measure of Twitter?\n",
    "The plot of correlation depicts that the variables retweet and favorite count correlate strongly with each other. It means, that it effects directly the audience of the WeRateDogs Twitter Account."
   ]
  },
  {
   "cell_type": "markdown",
   "metadata": {},
   "source": [
    "<img src=\"images/corel.png\">"
   ]
  },
  {
   "cell_type": "markdown",
   "metadata": {},
   "source": [
    "#### What is the most an effective source for posting ?\n",
    "Based on the result, the most effective source is Twitter for iPhone"
   ]
  },
  {
   "cell_type": "markdown",
   "metadata": {},
   "source": [
    "<img src=\"images/source.png\">"
   ]
  }
 ],
 "metadata": {
  "kernelspec": {
   "display_name": "Python 3",
   "language": "python",
   "name": "python3"
  },
  "language_info": {
   "codemirror_mode": {
    "name": "ipython",
    "version": 3
   },
   "file_extension": ".py",
   "mimetype": "text/x-python",
   "name": "python",
   "nbconvert_exporter": "python",
   "pygments_lexer": "ipython3",
   "version": "3.8.3"
  }
 },
 "nbformat": 4,
 "nbformat_minor": 4
}
